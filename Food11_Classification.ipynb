{
  "nbformat": 4,
  "nbformat_minor": 0,
  "metadata": {
    "accelerator": "GPU",
    "colab": {
      "provenance": [],
      "include_colab_link": true
    },
    "kernelspec": {
      "display_name": "Python 3",
      "name": "python3"
    },
    "gpuClass": "standard",
    "widgets": {
      "application/vnd.jupyter.widget-state+json": {
        "1e0e884456814c728ab301e9d269aa8c": {
          "model_module": "@jupyter-widgets/controls",
          "model_name": "HBoxModel",
          "model_module_version": "1.5.0",
          "state": {
            "_dom_classes": [],
            "_model_module": "@jupyter-widgets/controls",
            "_model_module_version": "1.5.0",
            "_model_name": "HBoxModel",
            "_view_count": null,
            "_view_module": "@jupyter-widgets/controls",
            "_view_module_version": "1.5.0",
            "_view_name": "HBoxView",
            "box_style": "",
            "children": [
              "IPY_MODEL_5428aff7de024b38a8cc9c1b83974fe2",
              "IPY_MODEL_0401b12137d74a4c8e20e9f3e1e4c90c",
              "IPY_MODEL_8f5ca452e2634697bc02efe3100f8dc3"
            ],
            "layout": "IPY_MODEL_c7f69048fa224f958eafa6aaf0e1e130"
          }
        },
        "5428aff7de024b38a8cc9c1b83974fe2": {
          "model_module": "@jupyter-widgets/controls",
          "model_name": "HTMLModel",
          "model_module_version": "1.5.0",
          "state": {
            "_dom_classes": [],
            "_model_module": "@jupyter-widgets/controls",
            "_model_module_version": "1.5.0",
            "_model_name": "HTMLModel",
            "_view_count": null,
            "_view_module": "@jupyter-widgets/controls",
            "_view_module_version": "1.5.0",
            "_view_name": "HTMLView",
            "description": "",
            "description_tooltip": null,
            "layout": "IPY_MODEL_34ecfe49798641ed931bf01ed877da6c",
            "placeholder": "​",
            "style": "IPY_MODEL_fd9710af4e01405bbc3c94f7f992dbc3",
            "value": "100%"
          }
        },
        "0401b12137d74a4c8e20e9f3e1e4c90c": {
          "model_module": "@jupyter-widgets/controls",
          "model_name": "FloatProgressModel",
          "model_module_version": "1.5.0",
          "state": {
            "_dom_classes": [],
            "_model_module": "@jupyter-widgets/controls",
            "_model_module_version": "1.5.0",
            "_model_name": "FloatProgressModel",
            "_view_count": null,
            "_view_module": "@jupyter-widgets/controls",
            "_view_module_version": "1.5.0",
            "_view_name": "ProgressView",
            "bar_style": "success",
            "description": "",
            "description_tooltip": null,
            "layout": "IPY_MODEL_eb2232cfd1a44b38bebfba0a72aa5dc9",
            "max": 32342954,
            "min": 0,
            "orientation": "horizontal",
            "style": "IPY_MODEL_ad9137820beb4aa6ba1690116fef6a5e",
            "value": 32342954
          }
        },
        "8f5ca452e2634697bc02efe3100f8dc3": {
          "model_module": "@jupyter-widgets/controls",
          "model_name": "HTMLModel",
          "model_module_version": "1.5.0",
          "state": {
            "_dom_classes": [],
            "_model_module": "@jupyter-widgets/controls",
            "_model_module_version": "1.5.0",
            "_model_name": "HTMLModel",
            "_view_count": null,
            "_view_module": "@jupyter-widgets/controls",
            "_view_module_version": "1.5.0",
            "_view_name": "HTMLView",
            "description": "",
            "description_tooltip": null,
            "layout": "IPY_MODEL_1bff5bab063b471983b8cee77289fd23",
            "placeholder": "​",
            "style": "IPY_MODEL_2116f1810c5c473ba6fdf412625f4911",
            "value": " 30.8M/30.8M [00:00&lt;00:00, 85.7MB/s]"
          }
        },
        "c7f69048fa224f958eafa6aaf0e1e130": {
          "model_module": "@jupyter-widgets/base",
          "model_name": "LayoutModel",
          "model_module_version": "1.2.0",
          "state": {
            "_model_module": "@jupyter-widgets/base",
            "_model_module_version": "1.2.0",
            "_model_name": "LayoutModel",
            "_view_count": null,
            "_view_module": "@jupyter-widgets/base",
            "_view_module_version": "1.2.0",
            "_view_name": "LayoutView",
            "align_content": null,
            "align_items": null,
            "align_self": null,
            "border": null,
            "bottom": null,
            "display": null,
            "flex": null,
            "flex_flow": null,
            "grid_area": null,
            "grid_auto_columns": null,
            "grid_auto_flow": null,
            "grid_auto_rows": null,
            "grid_column": null,
            "grid_gap": null,
            "grid_row": null,
            "grid_template_areas": null,
            "grid_template_columns": null,
            "grid_template_rows": null,
            "height": null,
            "justify_content": null,
            "justify_items": null,
            "left": null,
            "margin": null,
            "max_height": null,
            "max_width": null,
            "min_height": null,
            "min_width": null,
            "object_fit": null,
            "object_position": null,
            "order": null,
            "overflow": null,
            "overflow_x": null,
            "overflow_y": null,
            "padding": null,
            "right": null,
            "top": null,
            "visibility": null,
            "width": null
          }
        },
        "34ecfe49798641ed931bf01ed877da6c": {
          "model_module": "@jupyter-widgets/base",
          "model_name": "LayoutModel",
          "model_module_version": "1.2.0",
          "state": {
            "_model_module": "@jupyter-widgets/base",
            "_model_module_version": "1.2.0",
            "_model_name": "LayoutModel",
            "_view_count": null,
            "_view_module": "@jupyter-widgets/base",
            "_view_module_version": "1.2.0",
            "_view_name": "LayoutView",
            "align_content": null,
            "align_items": null,
            "align_self": null,
            "border": null,
            "bottom": null,
            "display": null,
            "flex": null,
            "flex_flow": null,
            "grid_area": null,
            "grid_auto_columns": null,
            "grid_auto_flow": null,
            "grid_auto_rows": null,
            "grid_column": null,
            "grid_gap": null,
            "grid_row": null,
            "grid_template_areas": null,
            "grid_template_columns": null,
            "grid_template_rows": null,
            "height": null,
            "justify_content": null,
            "justify_items": null,
            "left": null,
            "margin": null,
            "max_height": null,
            "max_width": null,
            "min_height": null,
            "min_width": null,
            "object_fit": null,
            "object_position": null,
            "order": null,
            "overflow": null,
            "overflow_x": null,
            "overflow_y": null,
            "padding": null,
            "right": null,
            "top": null,
            "visibility": null,
            "width": null
          }
        },
        "fd9710af4e01405bbc3c94f7f992dbc3": {
          "model_module": "@jupyter-widgets/controls",
          "model_name": "DescriptionStyleModel",
          "model_module_version": "1.5.0",
          "state": {
            "_model_module": "@jupyter-widgets/controls",
            "_model_module_version": "1.5.0",
            "_model_name": "DescriptionStyleModel",
            "_view_count": null,
            "_view_module": "@jupyter-widgets/base",
            "_view_module_version": "1.2.0",
            "_view_name": "StyleView",
            "description_width": ""
          }
        },
        "eb2232cfd1a44b38bebfba0a72aa5dc9": {
          "model_module": "@jupyter-widgets/base",
          "model_name": "LayoutModel",
          "model_module_version": "1.2.0",
          "state": {
            "_model_module": "@jupyter-widgets/base",
            "_model_module_version": "1.2.0",
            "_model_name": "LayoutModel",
            "_view_count": null,
            "_view_module": "@jupyter-widgets/base",
            "_view_module_version": "1.2.0",
            "_view_name": "LayoutView",
            "align_content": null,
            "align_items": null,
            "align_self": null,
            "border": null,
            "bottom": null,
            "display": null,
            "flex": null,
            "flex_flow": null,
            "grid_area": null,
            "grid_auto_columns": null,
            "grid_auto_flow": null,
            "grid_auto_rows": null,
            "grid_column": null,
            "grid_gap": null,
            "grid_row": null,
            "grid_template_areas": null,
            "grid_template_columns": null,
            "grid_template_rows": null,
            "height": null,
            "justify_content": null,
            "justify_items": null,
            "left": null,
            "margin": null,
            "max_height": null,
            "max_width": null,
            "min_height": null,
            "min_width": null,
            "object_fit": null,
            "object_position": null,
            "order": null,
            "overflow": null,
            "overflow_x": null,
            "overflow_y": null,
            "padding": null,
            "right": null,
            "top": null,
            "visibility": null,
            "width": null
          }
        },
        "ad9137820beb4aa6ba1690116fef6a5e": {
          "model_module": "@jupyter-widgets/controls",
          "model_name": "ProgressStyleModel",
          "model_module_version": "1.5.0",
          "state": {
            "_model_module": "@jupyter-widgets/controls",
            "_model_module_version": "1.5.0",
            "_model_name": "ProgressStyleModel",
            "_view_count": null,
            "_view_module": "@jupyter-widgets/base",
            "_view_module_version": "1.2.0",
            "_view_name": "StyleView",
            "bar_color": null,
            "description_width": ""
          }
        },
        "1bff5bab063b471983b8cee77289fd23": {
          "model_module": "@jupyter-widgets/base",
          "model_name": "LayoutModel",
          "model_module_version": "1.2.0",
          "state": {
            "_model_module": "@jupyter-widgets/base",
            "_model_module_version": "1.2.0",
            "_model_name": "LayoutModel",
            "_view_count": null,
            "_view_module": "@jupyter-widgets/base",
            "_view_module_version": "1.2.0",
            "_view_name": "LayoutView",
            "align_content": null,
            "align_items": null,
            "align_self": null,
            "border": null,
            "bottom": null,
            "display": null,
            "flex": null,
            "flex_flow": null,
            "grid_area": null,
            "grid_auto_columns": null,
            "grid_auto_flow": null,
            "grid_auto_rows": null,
            "grid_column": null,
            "grid_gap": null,
            "grid_row": null,
            "grid_template_areas": null,
            "grid_template_columns": null,
            "grid_template_rows": null,
            "height": null,
            "justify_content": null,
            "justify_items": null,
            "left": null,
            "margin": null,
            "max_height": null,
            "max_width": null,
            "min_height": null,
            "min_width": null,
            "object_fit": null,
            "object_position": null,
            "order": null,
            "overflow": null,
            "overflow_x": null,
            "overflow_y": null,
            "padding": null,
            "right": null,
            "top": null,
            "visibility": null,
            "width": null
          }
        },
        "2116f1810c5c473ba6fdf412625f4911": {
          "model_module": "@jupyter-widgets/controls",
          "model_name": "DescriptionStyleModel",
          "model_module_version": "1.5.0",
          "state": {
            "_model_module": "@jupyter-widgets/controls",
            "_model_module_version": "1.5.0",
            "_model_name": "DescriptionStyleModel",
            "_view_count": null,
            "_view_module": "@jupyter-widgets/base",
            "_view_module_version": "1.2.0",
            "_view_name": "StyleView",
            "description_width": ""
          }
        }
      }
    }
  },
  "cells": [
    {
      "cell_type": "markdown",
      "metadata": {
        "id": "view-in-github",
        "colab_type": "text"
      },
      "source": [
        "<a href=\"https://colab.research.google.com/github/qxygxt/Food11-Classification/blob/main/Food11_Classification.ipynb\" target=\"_parent\"><img src=\"https://colab.research.google.com/assets/colab-badge.svg\" alt=\"Open In Colab\"/></a>"
      ]
    },
    {
      "cell_type": "markdown",
      "source": [
        "# **Using pretrained DenseNet-121 to classify 11 categories of food images**"
      ],
      "metadata": {
        "id": "GWaLr2PYJZa6"
      }
    },
    {
      "cell_type": "markdown",
      "metadata": {
        "id": "VHpJocsDr6iA"
      },
      "source": [
        "## **1 Prepare Dataset**\n",
        "\n",
        "Download dataset from https://www.kaggle.com/datasets/trolukovich/food11-image-dataset and upload zip to Google Drive, then unzip.\n"
      ]
    },
    {
      "cell_type": "code",
      "execution_count": 1,
      "metadata": {
        "colab": {
          "base_uri": "https://localhost:8080/"
        },
        "id": "-VSuLUKDTTyc",
        "outputId": "73cfb0f7-a52c-4131-b67d-85a42767fca8"
      },
      "outputs": [
        {
          "output_type": "stream",
          "name": "stdout",
          "text": [
            "Mounted at /content/drive\n"
          ]
        }
      ],
      "source": [
        "from google.colab import drive\n",
        "drive.mount('/content/drive')"
      ]
    },
    {
      "cell_type": "code",
      "source": [
        "!unzip '/content/drive/MyDrive/archive (1).zip' -d '/content/drive/MyDrive/Food11-Data'"
      ],
      "metadata": {
        "id": "rccGUp3MKY9e"
      },
      "execution_count": null,
      "outputs": []
    },
    {
      "cell_type": "markdown",
      "source": [
        "##**2 Import Packages**"
      ],
      "metadata": {
        "id": "lEvt5kZNO2EZ"
      }
    },
    {
      "cell_type": "code",
      "metadata": {
        "id": "9sVrKci4PUFW"
      },
      "source": [
        "# Import necessary packages.\n",
        "import os\n",
        "import time\n",
        "import shutil\n",
        "import torch\n",
        "import numpy as np\n",
        "import matplotlib.pyplot as plt\n",
        "from imutils import paths\n",
        "from PIL import Image\n",
        "from torch import nn, optim\n",
        "from torch.cuda.amp import autocast\n",
        "from torch.utils.data import DataLoader\n",
        "from torchvision import transforms, models, datasets\n",
        "from torchvision.models import densenet121\n",
        "from tqdm import tqdm\n",
        "from sklearn.metrics import classification_report"
      ],
      "execution_count": 3,
      "outputs": []
    },
    {
      "cell_type": "markdown",
      "source": [
        "##**3 Configuration**"
      ],
      "metadata": {
        "id": "9ik9swbpQUR5"
      }
    },
    {
      "cell_type": "code",
      "source": [
        "DEVICE = 'cuda' if torch.cuda.is_available() else 'cpu'\n",
        "\n",
        "torch.manual_seed(1234)\n",
        "if DEVICE =='cuda':\n",
        "    torch.cuda.manual_seed_all(1234)\n",
        "print(DEVICE)"
      ],
      "metadata": {
        "colab": {
          "base_uri": "https://localhost:8080/"
        },
        "id": "1eUG6jfmFNOy",
        "outputId": "ce135426-69fe-45bc-ac92-db2cd174e18c"
      },
      "execution_count": 4,
      "outputs": [
        {
          "output_type": "stream",
          "name": "stdout",
          "text": [
            "cuda\n"
          ]
        }
      ]
    },
    {
      "cell_type": "code",
      "source": [
        "# For Data Processing\n",
        "DATA_PATH = \"/content/drive/MyDrive/Food11-Data\"\n",
        "TRAIN_PATH = os.path.join(DATA_PATH, \"training\")\n",
        "VAL_PATH = os.path.join(DATA_PATH, \"validation\")\n",
        "TEST_PATH = os.path.join(DATA_PATH, \"evaluation\")\n",
        "\n",
        "CLASSES = [\"Bread\", \"Dairy product\", \"Dessert\", \"Egg\", \"Fried food\", \"Meat\", \"Noodles-Pasta\", \"Rice\", \"Seafood\", \"Soup\", \"Vegetable-Fruit\"]\n",
        "\n",
        "IMAGE_SIZE = 224\n",
        "MEAN = [0.485, 0.456, 0.406]\n",
        "STD = [0.229, 0.224, 0.225]\n",
        "\n",
        "# For Training\n",
        "epochs = 20\n",
        "batch_size = 50\n",
        "lr = 0.001\n",
        "\n",
        "PLOT_PATH = os.path.join(\"./\", \"model_training.png\")\n",
        "MODEL_PATH = os.path.join(\"./\", \"food_classifier.pth\")"
      ],
      "metadata": {
        "id": "KC_t82IM_LyQ"
      },
      "execution_count": 5,
      "outputs": []
    },
    {
      "cell_type": "markdown",
      "source": [
        "##**4 Data Processing**"
      ],
      "metadata": {
        "id": "DNLGn7WGRzRf"
      }
    },
    {
      "cell_type": "code",
      "source": [
        "def get_dataloader(rootDir, transforms, bs, shuffle=True):\n",
        "\t# create a dataset and use it to create a data loader\n",
        "\tds = datasets.ImageFolder(root=rootDir, transform=transforms)\n",
        "\tloader = DataLoader(ds, batch_size=bs, shuffle=shuffle, num_workers=os.cpu_count(), pin_memory=True if DEVICE == \"cuda\" else False)\n",
        "    \n",
        "\t# return a tuple of the dataset and the data loader\n",
        "\treturn (ds, loader)"
      ],
      "metadata": {
        "id": "2efMw6nTCJXM"
      },
      "execution_count": 6,
      "outputs": []
    },
    {
      "cell_type": "code",
      "source": [
        "trainTansform = transforms.Compose([\n",
        "\ttransforms.RandomResizedCrop(IMAGE_SIZE),\n",
        "\ttransforms.RandomHorizontalFlip(),\n",
        "\ttransforms.RandomRotation(90),\n",
        "\ttransforms.ToTensor(),\n",
        "\ttransforms.Normalize(mean=MEAN, std=STD)\n",
        "])\n",
        "\n",
        "testTransform = transforms.Compose([\n",
        "\ttransforms.Resize((IMAGE_SIZE, IMAGE_SIZE)),\n",
        "\ttransforms.ToTensor(),\n",
        "\ttransforms.Normalize(mean=MEAN, std=STD)\n",
        "])\n",
        "\n",
        "# create data loaders\n",
        "(trainDS, train_loader) = get_dataloader(TRAIN_PATH, transforms=trainTansform, bs=batch_size)\n",
        "(valDS, val_loader) = get_dataloader(VAL_PATH, transforms=testTransform, bs=batch_size, shuffle=False)\n",
        "(testDS, test_loader) = get_dataloader(TEST_PATH, transforms=testTransform, bs=batch_size, shuffle=False)\n",
        "\n",
        "print(len(train_loader))\n",
        "print(len(val_loader))\n",
        "print(len(test_loader))"
      ],
      "metadata": {
        "colab": {
          "base_uri": "https://localhost:8080/"
        },
        "id": "HHJoRy0SDTrx",
        "outputId": "2a582351-beda-4688-c6c3-abd24b18d5f2"
      },
      "execution_count": 8,
      "outputs": [
        {
          "output_type": "stream",
          "name": "stdout",
          "text": [
            "209\n",
            "69\n",
            "67\n"
          ]
        }
      ]
    },
    {
      "cell_type": "markdown",
      "source": [
        "##**5 Create Model**"
      ],
      "metadata": {
        "id": "VOciqVM3S-j7"
      }
    },
    {
      "cell_type": "code",
      "source": [
        "class FoodClassifier(nn.Module):\n",
        "\tdef __init__(self, baseModel, numClasses):\n",
        "\t\tsuper(FoodClassifier, self).__init__()\n",
        "        \n",
        "\t\t# initialize the base model and the classification layer\n",
        "\t\tself.baseModel = baseModel\n",
        "\t\tself.classifier = nn.Linear(baseModel.classifier.in_features, numClasses)\n",
        "        \n",
        "\t\t# set the classifier of our base model to produce outputs from the last convolution block\n",
        "\t\tself.baseModel.classifier = nn.Identity()\n",
        "        \n",
        "    # we decorate the *forward()* method with *autocast()* to enable mixed-precision training in a distributed manner\n",
        "\t@autocast()\n",
        "\tdef forward(self, x):\n",
        "\t\t# pass the inputs through the base model and then obtain the classifier outputs\n",
        "\t\tfeatures = self.baseModel(x)\n",
        "\t\tlogits = self.classifier(features)\n",
        "        \n",
        "\t\t# return the classifier outputs\n",
        "\t\treturn logits"
      ],
      "metadata": {
        "id": "It92pwDRCc_V"
      },
      "execution_count": 9,
      "outputs": []
    },
    {
      "cell_type": "code",
      "source": [
        "# load up the DenseNet121 model\n",
        "baseModel = densenet121(pretrained=True)\n",
        "\n",
        "# loop over the modules of the model and if the module is batch norm, set it to non-trainable\n",
        "for module, param in zip(baseModel.modules(), baseModel.parameters()):\n",
        "\tif isinstance(module, nn.BatchNorm2d):\n",
        "\t\tparam.requires_grad = False\n",
        "        \n",
        "# initialize our custom model and flash it to the current device\n",
        "model = FoodClassifier(baseModel, len(trainDS.classes))\n",
        "model = model.to(DEVICE)"
      ],
      "metadata": {
        "colab": {
          "base_uri": "https://localhost:8080/",
          "height": 156,
          "referenced_widgets": [
            "1e0e884456814c728ab301e9d269aa8c",
            "5428aff7de024b38a8cc9c1b83974fe2",
            "0401b12137d74a4c8e20e9f3e1e4c90c",
            "8f5ca452e2634697bc02efe3100f8dc3",
            "c7f69048fa224f958eafa6aaf0e1e130",
            "34ecfe49798641ed931bf01ed877da6c",
            "fd9710af4e01405bbc3c94f7f992dbc3",
            "eb2232cfd1a44b38bebfba0a72aa5dc9",
            "ad9137820beb4aa6ba1690116fef6a5e",
            "1bff5bab063b471983b8cee77289fd23",
            "2116f1810c5c473ba6fdf412625f4911"
          ]
        },
        "id": "6SdG9CRkF8ns",
        "outputId": "5aa103c2-6916-434b-aa29-002925182453"
      },
      "execution_count": 10,
      "outputs": [
        {
          "output_type": "stream",
          "name": "stderr",
          "text": [
            "/usr/local/lib/python3.9/dist-packages/torchvision/models/_utils.py:208: UserWarning: The parameter 'pretrained' is deprecated since 0.13 and may be removed in the future, please use 'weights' instead.\n",
            "  warnings.warn(\n",
            "/usr/local/lib/python3.9/dist-packages/torchvision/models/_utils.py:223: UserWarning: Arguments other than a weight enum or `None` for 'weights' are deprecated since 0.13 and may be removed in the future. The current behavior is equivalent to passing `weights=DenseNet121_Weights.IMAGENET1K_V1`. You can also use `weights=DenseNet121_Weights.DEFAULT` to get the most up-to-date weights.\n",
            "  warnings.warn(msg)\n",
            "Downloading: \"https://download.pytorch.org/models/densenet121-a639ec97.pth\" to /root/.cache/torch/hub/checkpoints/densenet121-a639ec97.pth\n"
          ]
        },
        {
          "output_type": "display_data",
          "data": {
            "text/plain": [
              "  0%|          | 0.00/30.8M [00:00<?, ?B/s]"
            ],
            "application/vnd.jupyter.widget-view+json": {
              "version_major": 2,
              "version_minor": 0,
              "model_id": "1e0e884456814c728ab301e9d269aa8c"
            }
          },
          "metadata": {}
        }
      ]
    },
    {
      "cell_type": "markdown",
      "source": [
        "##**6 Training**"
      ],
      "metadata": {
        "id": "YTJxSAJwSU4O"
      }
    },
    {
      "cell_type": "code",
      "source": [
        "# determine the number of GPUs we have\n",
        "NUM_GPU = torch.cuda.device_count()\n",
        "print(f\"[INFO] number of GPUs found: {NUM_GPU}...\")\n",
        "\n",
        "# determine the batch size based on the number of GPUs\n",
        "BATCH_SIZE = batch_size * NUM_GPU\n",
        "print(f\"[INFO] using a batch size of {BATCH_SIZE}...\")"
      ],
      "metadata": {
        "colab": {
          "base_uri": "https://localhost:8080/"
        },
        "id": "RybkWyNECmne",
        "outputId": "ae0552aa-ac7e-4546-8e3d-cf2a92702fd3"
      },
      "execution_count": 12,
      "outputs": [
        {
          "output_type": "stream",
          "name": "stdout",
          "text": [
            "[INFO] number of GPUs found: 1...\n",
            "[INFO] using a batch size of 50...\n"
          ]
        }
      ]
    },
    {
      "cell_type": "code",
      "source": [
        "# if we have more than one GPU then parallelize the model\n",
        "if NUM_GPU > 1:\n",
        "\tmodel = nn.DataParallel(model)\n",
        "    \n",
        "# initialize loss function, optimizer, and gradient scaler\n",
        "lossFunc = nn.CrossEntropyLoss()\n",
        "opt = optim.Adam(model.parameters(), lr = lr * NUM_GPU)\n",
        "scaler = torch.cuda.amp.GradScaler(enabled=True)\n",
        "\n",
        "# initialize a learning-rate (LR) scheduler to decay the it by a factor of 0.1 after every 10 epochs\n",
        "lrScheduler = optim.lr_scheduler.StepLR(opt, step_size=10, gamma=0.1)\n",
        "\n",
        "# calculate steps per epoch for training and validation set\n",
        "trainSteps = len(trainDS) // BATCH_SIZE\n",
        "valSteps = len(valDS) // BATCH_SIZE\n",
        "\n",
        "# initialize a dictionary to store training history\n",
        "H = {\"train_loss\": [], \"train_acc\": [], \"val_loss\": [],\t\"val_acc\": []}"
      ],
      "metadata": {
        "id": "mpPbITEXGsbb"
      },
      "execution_count": 13,
      "outputs": []
    },
    {
      "cell_type": "code",
      "source": [
        "# loop over epochs\n",
        "print(\"[INFO] training the network...\")\n",
        "startTime = time.time()\n",
        "for e in tqdm(range(epochs)):\n",
        "\t# set the model in training mode\n",
        "\tmodel.train()\n",
        "    \n",
        "\t# initialize the total training and validation loss\n",
        "\ttotalTrainLoss = 0\n",
        "\ttotalValLoss = 0\n",
        "    \n",
        "\t# initialize the number of correct predictions in the training and validation step\n",
        "\ttrainCorrect = 0\n",
        "\tvalCorrect = 0\n",
        "    \n",
        "\t# loop over the training set\n",
        "\tfor (x, y) in train_loader:\n",
        "\t\twith torch.cuda.amp.autocast(enabled=True):\n",
        "\t\t\t# send the input to the device\n",
        "\t\t\t(x, y) = (x.to(DEVICE), y.to(DEVICE))\n",
        "            \n",
        "\t\t\t# perform a forward pass and calculate the training loss\n",
        "\t\t\tpred = model(x)\n",
        "\t\t\tloss = lossFunc(pred, y)\n",
        "            \n",
        "\t\t# calculate the gradients\n",
        "\t\tscaler.scale(loss).backward()\n",
        "\t\tscaler.step(opt)\n",
        "\t\tscaler.update()\n",
        "\t\topt.zero_grad()\n",
        "        \n",
        "\t\t# add the loss to the total training loss so far and calculate the number of correct predictions\n",
        "\t\ttotalTrainLoss += loss.item()\n",
        "\t\ttrainCorrect += (pred.argmax(1) == y).type(torch.float).sum().item()\n",
        "        \n",
        "\t# update our LR scheduler\n",
        "\tlrScheduler.step()\n",
        "    \n",
        "    # switch off autograd\n",
        "\twith torch.no_grad():\n",
        "\t\t# set the model in evaluation mode\n",
        "\t\tmodel.eval()\n",
        "        \n",
        "\t\t# loop over the validation set\n",
        "\t\tfor (x, y) in val_loader:\n",
        "\t\t\twith torch.cuda.amp.autocast(enabled=True):\n",
        "\t\t\t\t# send the input to the device\n",
        "\t\t\t\t(x, y) = (x.to(DEVICE), y.to(DEVICE))\n",
        "                \n",
        "\t\t\t\t# make the predictions and calculate the validation loss\n",
        "\t\t\t\tpred = model(x)\n",
        "\t\t\t\ttotalValLoss += lossFunc(pred, y).item()\n",
        "                \n",
        "\t\t\t# calculate the number of correct predictions\n",
        "\t\t\tvalCorrect += (pred.argmax(1) == y).type(torch.float).sum().item()\n",
        "            \n",
        "\t# calculate the average training and validation loss\n",
        "\tavgTrainLoss = totalTrainLoss / trainSteps\n",
        "\tavgValLoss = totalValLoss / valSteps\n",
        "    \n",
        "\t# calculate the training and validation accuracy\n",
        "\ttrainCorrect = trainCorrect / len(trainDS)\n",
        "\tvalCorrect = valCorrect / len(valDS)\n",
        "    \n",
        "    # update our training history\n",
        "\tH[\"train_loss\"].append(avgTrainLoss)\n",
        "\tH[\"train_acc\"].append(trainCorrect)\n",
        "\tH[\"val_loss\"].append(avgValLoss)\n",
        "\tH[\"val_acc\"].append(valCorrect)\n",
        "    \n",
        "\t# print the model training and validation information\n",
        "\tprint(\"[INFO] EPOCH: {}/{}\".format(e + 1, epochs))\n",
        "\tprint(\"Train loss: {:.6f}, Train accuracy: {:.4f}\".format(avgTrainLoss, trainCorrect))\n",
        "\tprint(\"Val loss: {:.6f}, Val accuracy: {:.4f}\".format(avgValLoss, valCorrect))\n",
        "    \n",
        "# display the total time needed to perform the training\n",
        "endTime = time.time()\n",
        "print(\"[INFO] total time taken to train the model: {:.2f}s\".format(endTime - startTime))"
      ],
      "metadata": {
        "colab": {
          "base_uri": "https://localhost:8080/"
        },
        "id": "WIEmo-ltG16h",
        "outputId": "dae85c09-bd4d-4a07-f5e1-5763837a4fd2"
      },
      "execution_count": 15,
      "outputs": [
        {
          "output_type": "stream",
          "name": "stdout",
          "text": [
            "[INFO] training the network...\n"
          ]
        },
        {
          "output_type": "stream",
          "name": "stderr",
          "text": [
            "  5%|▌         | 1/20 [02:21<44:44, 141.27s/it]"
          ]
        },
        {
          "output_type": "stream",
          "name": "stdout",
          "text": [
            "[INFO] EPOCH: 1/20\n",
            "Train loss: 0.856015, Train accuracy: 0.7178\n",
            "Val loss: 0.863283, Val accuracy: 0.7405\n"
          ]
        },
        {
          "output_type": "stream",
          "name": "stderr",
          "text": [
            "\r 10%|█         | 2/20 [04:41<42:11, 140.63s/it]"
          ]
        },
        {
          "output_type": "stream",
          "name": "stdout",
          "text": [
            "[INFO] EPOCH: 2/20\n",
            "Train loss: 0.742997, Train accuracy: 0.7590\n",
            "Val loss: 0.746513, Val accuracy: 0.7551\n"
          ]
        },
        {
          "output_type": "stream",
          "name": "stderr",
          "text": [
            "\r 15%|█▌        | 3/20 [07:01<39:42, 140.15s/it]"
          ]
        },
        {
          "output_type": "stream",
          "name": "stdout",
          "text": [
            "[INFO] EPOCH: 3/20\n",
            "Train loss: 0.714689, Train accuracy: 0.7649\n",
            "Val loss: 0.609531, Val accuracy: 0.8160\n"
          ]
        },
        {
          "output_type": "stream",
          "name": "stderr",
          "text": [
            "\r 20%|██        | 4/20 [09:20<37:18, 139.93s/it]"
          ]
        },
        {
          "output_type": "stream",
          "name": "stdout",
          "text": [
            "[INFO] EPOCH: 4/20\n",
            "Train loss: 0.687977, Train accuracy: 0.7807\n",
            "Val loss: 0.777924, Val accuracy: 0.7563\n"
          ]
        },
        {
          "output_type": "stream",
          "name": "stderr",
          "text": [
            "\r 25%|██▌       | 5/20 [11:41<35:02, 140.14s/it]"
          ]
        },
        {
          "output_type": "stream",
          "name": "stdout",
          "text": [
            "[INFO] EPOCH: 5/20\n",
            "Train loss: 0.632929, Train accuracy: 0.7942\n",
            "Val loss: 0.652795, Val accuracy: 0.7825\n"
          ]
        },
        {
          "output_type": "stream",
          "name": "stderr",
          "text": [
            "\r 30%|███       | 6/20 [14:00<32:39, 139.98s/it]"
          ]
        },
        {
          "output_type": "stream",
          "name": "stdout",
          "text": [
            "[INFO] EPOCH: 6/20\n",
            "Train loss: 0.590690, Train accuracy: 0.8078\n",
            "Val loss: 0.535257, Val accuracy: 0.8309\n"
          ]
        },
        {
          "output_type": "stream",
          "name": "stderr",
          "text": [
            "\r 35%|███▌      | 7/20 [16:20<30:19, 139.96s/it]"
          ]
        },
        {
          "output_type": "stream",
          "name": "stdout",
          "text": [
            "[INFO] EPOCH: 7/20\n",
            "Train loss: 0.579541, Train accuracy: 0.8089\n",
            "Val loss: 0.608478, Val accuracy: 0.8125\n"
          ]
        },
        {
          "output_type": "stream",
          "name": "stderr",
          "text": [
            "\r 40%|████      | 8/20 [18:41<28:01, 140.12s/it]"
          ]
        },
        {
          "output_type": "stream",
          "name": "stdout",
          "text": [
            "[INFO] EPOCH: 8/20\n",
            "Train loss: 0.561022, Train accuracy: 0.8181\n",
            "Val loss: 0.601076, Val accuracy: 0.8163\n"
          ]
        },
        {
          "output_type": "stream",
          "name": "stderr",
          "text": [
            "\r 45%|████▌     | 9/20 [21:01<25:40, 140.03s/it]"
          ]
        },
        {
          "output_type": "stream",
          "name": "stdout",
          "text": [
            "[INFO] EPOCH: 9/20\n",
            "Train loss: 0.544711, Train accuracy: 0.8224\n",
            "Val loss: 0.508612, Val accuracy: 0.8429\n"
          ]
        },
        {
          "output_type": "stream",
          "name": "stderr",
          "text": [
            "\r 50%|█████     | 10/20 [23:20<23:18, 139.90s/it]"
          ]
        },
        {
          "output_type": "stream",
          "name": "stdout",
          "text": [
            "[INFO] EPOCH: 10/20\n",
            "Train loss: 0.418231, Train accuracy: 0.8672\n",
            "Val loss: 0.370194, Val accuracy: 0.8813\n"
          ]
        },
        {
          "output_type": "stream",
          "name": "stderr",
          "text": [
            "\r 55%|█████▌    | 11/20 [25:40<20:59, 139.93s/it]"
          ]
        },
        {
          "output_type": "stream",
          "name": "stdout",
          "text": [
            "[INFO] EPOCH: 11/20\n",
            "Train loss: 0.362799, Train accuracy: 0.8818\n",
            "Val loss: 0.350064, Val accuracy: 0.8834\n"
          ]
        },
        {
          "output_type": "stream",
          "name": "stderr",
          "text": [
            "\r 60%|██████    | 12/20 [27:59<18:37, 139.64s/it]"
          ]
        },
        {
          "output_type": "stream",
          "name": "stdout",
          "text": [
            "[INFO] EPOCH: 12/20\n",
            "Train loss: 0.350108, Train accuracy: 0.8875\n",
            "Val loss: 0.345296, Val accuracy: 0.8892\n"
          ]
        },
        {
          "output_type": "stream",
          "name": "stderr",
          "text": [
            "\r 65%|██████▌   | 13/20 [30:19<16:17, 139.70s/it]"
          ]
        },
        {
          "output_type": "stream",
          "name": "stdout",
          "text": [
            "[INFO] EPOCH: 13/20\n",
            "Train loss: 0.316085, Train accuracy: 0.9005\n",
            "Val loss: 0.329022, Val accuracy: 0.8942\n"
          ]
        },
        {
          "output_type": "stream",
          "name": "stderr",
          "text": [
            "\r 70%|███████   | 14/20 [32:40<14:00, 140.08s/it]"
          ]
        },
        {
          "output_type": "stream",
          "name": "stdout",
          "text": [
            "[INFO] EPOCH: 14/20\n",
            "Train loss: 0.320244, Train accuracy: 0.8956\n",
            "Val loss: 0.330015, Val accuracy: 0.8913\n"
          ]
        },
        {
          "output_type": "stream",
          "name": "stderr",
          "text": [
            "\r 75%|███████▌  | 15/20 [35:01<11:41, 140.27s/it]"
          ]
        },
        {
          "output_type": "stream",
          "name": "stdout",
          "text": [
            "[INFO] EPOCH: 15/20\n",
            "Train loss: 0.307542, Train accuracy: 0.9011\n",
            "Val loss: 0.326682, Val accuracy: 0.8948\n"
          ]
        },
        {
          "output_type": "stream",
          "name": "stderr",
          "text": [
            "\r 80%|████████  | 16/20 [37:21<09:21, 140.27s/it]"
          ]
        },
        {
          "output_type": "stream",
          "name": "stdout",
          "text": [
            "[INFO] EPOCH: 16/20\n",
            "Train loss: 0.292832, Train accuracy: 0.9045\n",
            "Val loss: 0.340945, Val accuracy: 0.8933\n"
          ]
        },
        {
          "output_type": "stream",
          "name": "stderr",
          "text": [
            "\r 85%|████████▌ | 17/20 [39:39<06:58, 139.58s/it]"
          ]
        },
        {
          "output_type": "stream",
          "name": "stdout",
          "text": [
            "[INFO] EPOCH: 17/20\n",
            "Train loss: 0.285070, Train accuracy: 0.9070\n",
            "Val loss: 0.336563, Val accuracy: 0.8889\n"
          ]
        },
        {
          "output_type": "stream",
          "name": "stderr",
          "text": [
            "\r 90%|█████████ | 18/20 [41:57<04:38, 139.24s/it]"
          ]
        },
        {
          "output_type": "stream",
          "name": "stdout",
          "text": [
            "[INFO] EPOCH: 18/20\n",
            "Train loss: 0.278675, Train accuracy: 0.9114\n",
            "Val loss: 0.329922, Val accuracy: 0.8913\n"
          ]
        },
        {
          "output_type": "stream",
          "name": "stderr",
          "text": [
            "\r 95%|█████████▌| 19/20 [44:16<02:18, 138.96s/it]"
          ]
        },
        {
          "output_type": "stream",
          "name": "stdout",
          "text": [
            "[INFO] EPOCH: 19/20\n",
            "Train loss: 0.266081, Train accuracy: 0.9181\n",
            "Val loss: 0.315635, Val accuracy: 0.8991\n"
          ]
        },
        {
          "output_type": "stream",
          "name": "stderr",
          "text": [
            "100%|██████████| 20/20 [46:34<00:00, 139.73s/it]"
          ]
        },
        {
          "output_type": "stream",
          "name": "stdout",
          "text": [
            "[INFO] EPOCH: 20/20\n",
            "Train loss: 0.257631, Train accuracy: 0.9180\n",
            "Val loss: 0.308569, Val accuracy: 0.8997\n",
            "[INFO] total time taken to train the model: 2794.59s\n"
          ]
        },
        {
          "output_type": "stream",
          "name": "stderr",
          "text": [
            "\n"
          ]
        }
      ]
    },
    {
      "cell_type": "code",
      "source": [
        "# plot the training loss and accuracy\n",
        "plt.style.use(\"ggplot\")\n",
        "plt.figure()\n",
        "plt.plot(H[\"train_loss\"], label=\"train_loss\")\n",
        "plt.plot(H[\"val_loss\"], label=\"val_loss\")\n",
        "plt.plot(H[\"train_acc\"], label=\"train_acc\")\n",
        "plt.plot(H[\"val_acc\"], label=\"val_acc\")\n",
        "plt.title(\"Training Loss and Accuracy on Dataset\")\n",
        "plt.xlabel(\"Epoch #\")\n",
        "plt.ylabel(\"Loss/Accuracy\")\n",
        "plt.legend(loc=\"lower left\")\n",
        "plt.savefig(PLOT_PATH)\n",
        "\n",
        "# serialize the model state to disk\n",
        "torch.save(model.state_dict(), MODEL_PATH)"
      ],
      "metadata": {
        "colab": {
          "base_uri": "https://localhost:8080/",
          "height": 299
        },
        "id": "YRS7aFRGUVFh",
        "outputId": "e8a2e4f4-7c4f-47e0-a71f-6adc02675ea4"
      },
      "execution_count": 16,
      "outputs": [
        {
          "output_type": "display_data",
          "data": {
            "text/plain": [
              "<Figure size 432x288 with 1 Axes>"
            ],
            "image/png": "[encoded data removed]"
          },
          "metadata": {}
        }
      ]
    },
    {
      "cell_type": "markdown",
      "source": [
        "##**7 Testing**"
      ],
      "metadata": {
        "id": "ojpPL6wWVESX"
      }
    },
    {
      "cell_type": "code",
      "source": [
        "print(\"[INFO] testing network...\")\n",
        "with torch.no_grad():\n",
        "\t# set the model in evaluation mode\n",
        "\tmodel.eval()\n",
        "    \n",
        "\t# initialize a list to store our predictions\n",
        "\tpreds = []\n",
        "    \n",
        "\t# loop over the test set\n",
        "\tfor (x, _) in test_loader:\n",
        "\t\t# send the input to the device\n",
        "\t\tx = x.to(DEVICE)\n",
        "        \n",
        "\t\t# make the predictions and add them to the list\n",
        "\t\tpred = model(x)\n",
        "\t\tpreds.extend(pred.argmax(axis=1).cpu().numpy())\n",
        "        \n",
        "# generate a classification report\n",
        "print(classification_report(testDS.targets, preds, target_names=testDS.classes))"
      ],
      "metadata": {
        "colab": {
          "base_uri": "https://localhost:8080/"
        },
        "id": "bWSAnRVXU_LP",
        "outputId": "7bd74249-3335-4d38-cc51-3f9f8a9be1c2"
      },
      "execution_count": 17,
      "outputs": [
        {
          "output_type": "stream",
          "name": "stdout",
          "text": [
            "[INFO] testing network...\n",
            "                 precision    recall  f1-score   support\n",
            "\n",
            "          Bread       0.92      0.86      0.88       368\n",
            "  Dairy product       0.88      0.82      0.85       148\n",
            "        Dessert       0.86      0.89      0.87       500\n",
            "            Egg       0.90      0.92      0.91       335\n",
            "     Fried food       0.89      0.91      0.90       287\n",
            "           Meat       0.92      0.92      0.92       432\n",
            "  Noodles-Pasta       0.97      0.98      0.97       147\n",
            "           Rice       0.97      0.91      0.94        96\n",
            "        Seafood       0.94      0.91      0.93       303\n",
            "           Soup       0.96      0.98      0.97       500\n",
            "Vegetable-Fruit       0.95      0.97      0.96       231\n",
            "\n",
            "       accuracy                           0.92      3347\n",
            "      macro avg       0.92      0.91      0.92      3347\n",
            "   weighted avg       0.92      0.92      0.92      3347\n",
            "\n"
          ]
        }
      ]
    }
  ]
}